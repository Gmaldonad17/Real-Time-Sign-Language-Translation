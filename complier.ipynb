{
 "cells": [
  {
   "cell_type": "code",
   "execution_count": 25,
   "id": "d4bbbd5d-5fca-42e8-8024-2d6d9e6c1bac",
   "metadata": {},
   "outputs": [],
   "source": [
    "import cv2\n",
    "import numpy as np\n",
    "import os\n",
    "import matplotlib.pyplot as plt"
   ]
  },
  {
   "cell_type": "code",
   "execution_count": 26,
   "id": "9d7e0e65-6a41-484e-a2fe-b558057a587d",
   "metadata": {},
   "outputs": [],
   "source": [
    "classifications = os.listdir('Resources/')[1:]\n",
    "classes = {}\n",
    "for index, value in enumerate(classifications):\n",
    "    classes[value] = index"
   ]
  },
  {
   "cell_type": "code",
   "execution_count": 27,
   "id": "d7041131-03bd-4338-8b6e-d70f96c3c442",
   "metadata": {},
   "outputs": [
    {
     "data": {
      "text/plain": [
       "{'a': 0,\n",
       " 'access': 1,\n",
       " 'accustom': 2,\n",
       " 'am': 3,\n",
       " 'and': 4,\n",
       " 'available': 5,\n",
       " 'avenue': 6,\n",
       " 'barrier': 7,\n",
       " 'beautiful': 8,\n",
       " 'break': 9,\n",
       " 'by': 10,\n",
       " 'bye': 11,\n",
       " 'call': 12,\n",
       " 'center': 13,\n",
       " 'chat': 14,\n",
       " 'client': 15,\n",
       " 'commit': 16,\n",
       " 'communicate': 17,\n",
       " 'consult': 18,\n",
       " 'contact': 19,\n",
       " 'deaf': 20,\n",
       " 'drop': 21,\n",
       " 'everyone': 22,\n",
       " 'family': 23,\n",
       " 'finance': 24,\n",
       " 'for': 25,\n",
       " 'generation': 26,\n",
       " 'give': 27,\n",
       " 'goal': 28,\n",
       " 'grown': 29,\n",
       " 'hand': 30,\n",
       " 'hard': 31,\n",
       " 'have': 32,\n",
       " 'hear': 33,\n",
       " 'hello': 34,\n",
       " 'help': 35,\n",
       " 'hope': 36,\n",
       " 'i': 37,\n",
       " 'ILU': 38,\n",
       " 'in': 39,\n",
       " 'increase': 40,\n",
       " 'introduce': 41,\n",
       " 'live': 42,\n",
       " 'manager': 43,\n",
       " 'name': 44,\n",
       " 'national': 45,\n",
       " 'new': 46,\n",
       " 'no': 47,\n",
       " 'now': 48,\n",
       " 'only': 49,\n",
       " 'option': 50,\n",
       " 'our': 51,\n",
       " 'participate': 52,\n",
       " 'people': 53,\n",
       " 'please': 54,\n",
       " 'program': 55,\n",
       " 'project': 56,\n",
       " 'quick': 57,\n",
       " 'receive': 58,\n",
       " 'result': 59,\n",
       " 'retire': 60,\n",
       " 'seek': 61,\n",
       " 'show': 62,\n",
       " 'success': 63,\n",
       " 'support': 64,\n",
       " 'team': 65,\n",
       " 'thank': 66,\n",
       " 'that': 67,\n",
       " 'this': 68,\n",
       " 'tiaa': 69,\n",
       " 'time': 70,\n",
       " 'to': 71,\n",
       " 'today': 72,\n",
       " 'unknown': 73,\n",
       " 'value': 74,\n",
       " 'want': 75,\n",
       " 'was': 76,\n",
       " 'we': 77,\n",
       " 'which': 78,\n",
       " 'who': 79,\n",
       " 'with': 80,\n",
       " 'yes': 81,\n",
       " 'you': 82,\n",
       " 'zoom': 83}"
      ]
     },
     "execution_count": 27,
     "metadata": {},
     "output_type": "execute_result"
    }
   ],
   "source": [
    "classes"
   ]
  },
  {
   "cell_type": "code",
   "execution_count": 28,
   "id": "b5d4f232-5970-4026-8060-21131f554c59",
   "metadata": {},
   "outputs": [
    {
     "data": {
      "text/plain": [
       "81"
      ]
     },
     "execution_count": 28,
     "metadata": {},
     "output_type": "execute_result"
    }
   ],
   "source": [
    "classes['yes']"
   ]
  },
  {
   "cell_type": "code",
   "execution_count": 29,
   "id": "36f71aa6-53cb-4d8c-bf3f-a55f7c69c132",
   "metadata": {},
   "outputs": [
    {
     "data": {
      "text/plain": [
       "dict_keys(['a', 'access', 'accustom', 'am', 'and', 'available', 'avenue', 'barrier', 'beautiful', 'break', 'by', 'bye', 'call', 'center', 'chat', 'client', 'commit', 'communicate', 'consult', 'contact', 'deaf', 'drop', 'everyone', 'family', 'finance', 'for', 'generation', 'give', 'goal', 'grown', 'hand', 'hard', 'have', 'hear', 'hello', 'help', 'hope', 'i', 'ILU', 'in', 'increase', 'introduce', 'live', 'manager', 'name', 'national', 'new', 'no', 'now', 'only', 'option', 'our', 'participate', 'people', 'please', 'program', 'project', 'quick', 'receive', 'result', 'retire', 'seek', 'show', 'success', 'support', 'team', 'thank', 'that', 'this', 'tiaa', 'time', 'to', 'today', 'unknown', 'value', 'want', 'was', 'we', 'which', 'who', 'with', 'yes', 'you', 'zoom'])"
      ]
     },
     "execution_count": 29,
     "metadata": {},
     "output_type": "execute_result"
    }
   ],
   "source": [
    "classes.keys()"
   ]
  },
  {
   "cell_type": "code",
   "execution_count": 30,
   "id": "d3e216e3-846d-451f-aab8-64d7284260b3",
   "metadata": {},
   "outputs": [],
   "source": [
    "# for classification in classifications:\n",
    "#     handset = []\n",
    "\n",
    "#     hand_files = os.listdir(f\"Resources/{classification}/hand/\")[1:]\n",
    "#     for hand in hand_files:\n",
    "#         img = np.load(f\"Resources/{classification}/hand/{hand}\", allow_pickle=True)\n",
    "#         handset.append([np.array(img), np.eye(4)[classes[classification]]])\n",
    "#     np.save(f\"Resources/{classification}/{classification}_hands.npy\", handset)"
   ]
  },
  {
   "cell_type": "code",
   "execution_count": 32,
   "id": "463f196c-12e8-48ea-8de3-d0b3d737d092",
   "metadata": {},
   "outputs": [
    {
     "name": "stdout",
     "output_type": "stream",
     "text": [
      "(141, 120)\n",
      "(141, 120)\n",
      "(204, 120)\n",
      "(145, 120)\n",
      "(238, 120)\n",
      "(136, 120)\n",
      "(144, 120)\n",
      "(219, 120)\n",
      "(194, 120)\n",
      "(134, 120)\n",
      "(151, 120)\n",
      "(155, 120)\n",
      "(232, 120)\n",
      "(138, 120)\n",
      "(214, 120)\n",
      "(231, 120)\n",
      "(201, 120)\n",
      "(212, 120)\n",
      "(223, 120)\n",
      "(298, 120)\n",
      "(212, 120)\n",
      "(215, 120)\n",
      "(214, 120)\n",
      "(210, 120)\n",
      "(194, 120)\n",
      "(197, 120)\n",
      "(150, 120)\n",
      "(285, 120)\n",
      "(210, 120)\n",
      "(164, 120)\n",
      "(219, 120)\n",
      "(225, 120)\n",
      "(153, 120)\n",
      "(155, 120)\n",
      "(211, 120)\n",
      "(214, 120)\n",
      "(149, 120)\n",
      "(298, 120)\n",
      "(240, 120)\n",
      "(224, 120)\n",
      "(359, 120)\n",
      "(227, 120)\n",
      "(210, 120)\n",
      "(288, 120)\n",
      "(171, 120)\n",
      "(227, 120)\n",
      "(159, 120)\n",
      "(219, 120)\n",
      "(216, 120)\n",
      "(221, 120)\n",
      "(160, 120)\n",
      "(214, 120)\n",
      "(155, 120)\n",
      "(225, 120)\n",
      "(154, 120)\n",
      "(158, 120)\n",
      "(211, 120)\n",
      "(136, 120)\n",
      "(174, 120)\n",
      "(321, 120)\n",
      "(185, 120)\n",
      "(232, 120)\n",
      "(281, 120)\n",
      "(236, 120)\n",
      "(170, 120)\n",
      "(220, 120)\n",
      "(169, 120)\n",
      "(208, 120)\n",
      "(299, 120)\n",
      "(292, 120)\n",
      "(382, 120)\n",
      "(163, 120)\n",
      "(186, 120)\n",
      "(157, 120)\n",
      "(226, 120)\n",
      "(159, 120)\n",
      "(215, 120)\n",
      "(160, 120)\n",
      "(173, 120)\n",
      "(173, 120)\n",
      "(165, 120)\n",
      "(163, 120)\n",
      "(157, 120)\n"
     ]
    }
   ],
   "source": [
    "masterhand = np.load(\"Resources/a/a.npy\", allow_pickle=True)\n",
    "for i in masterhand:\n",
    "    i[1] = np.eye(len(classifications))[classes['a']]\n",
    "    \n",
    "    if len(i[0]) != 120:\n",
    "        i[0] = np.concatenate((i[0], np.random.rand(60))) \n",
    "\n",
    "for classification in classifications[1:]:\n",
    "    currenthands = np.load(f\"Resources/{classification}/{classification}.npy\", allow_pickle=True)\n",
    "    \n",
    "    for i in currenthands:\n",
    "        i[1] = np.eye(len(classifications))[classes[classification]]\n",
    "        \n",
    "        if len(i[0]) != 120:\n",
    "            i[0] = np.concatenate((i[0], np.random.rand(60)))\n",
    "            \n",
    "    print(np.array([i[0] for i in currenthands]).shape)\n",
    "    \n",
    "    masterhand = np.concatenate((masterhand, currenthands))\n",
    "\n",
    "np.save(\"datasets/two_5.npy\", masterhand)"
   ]
  },
  {
   "cell_type": "code",
   "execution_count": 57,
   "id": "f6ca6374-36d5-4845-b0b5-347577ee3f2f",
   "metadata": {},
   "outputs": [],
   "source": [
    "masterhand = np.load(\"datasets/two_5.npy\", allow_pickle=True)    "
   ]
  },
  {
   "cell_type": "code",
   "execution_count": null,
   "id": "6fbb4e12-5737-465a-bbf0-4d4bcf554081",
   "metadata": {},
   "outputs": [],
   "source": []
  },
  {
   "cell_type": "code",
   "execution_count": null,
   "id": "f884024c-3d95-4018-ba9e-c42042c2a612",
   "metadata": {},
   "outputs": [],
   "source": []
  }
 ],
 "metadata": {
  "kernelspec": {
   "display_name": "Python 3",
   "language": "python",
   "name": "python3"
  },
  "language_info": {
   "codemirror_mode": {
    "name": "ipython",
    "version": 3
   },
   "file_extension": ".py",
   "mimetype": "text/x-python",
   "name": "python",
   "nbconvert_exporter": "python",
   "pygments_lexer": "ipython3",
   "version": "3.8.8"
  }
 },
 "nbformat": 4,
 "nbformat_minor": 5
}
