{
 "cells": [
  {
   "cell_type": "code",
   "execution_count": 1,
   "id": "8d102ba1-2890-4cbf-8136-d19c95f9c11f",
   "metadata": {},
   "outputs": [],
   "source": [
    "import os\n",
    "import math\n",
    "\n",
    "import cv2\n",
    "import numpy as np\n",
    "from tqdm import tqdm\n",
    "\n",
    "import torch\n",
    "import torch.nn as nn\n",
    "import torch.nn.functional as F\n",
    "import torch.optim as optim\n",
    "\n",
    "import matplotlib.pyplot as plt\n",
    "import matplotlib.image as mpimg\n",
    "from sklearn.model_selection import train_test_split\n",
    "\n",
    "import pickle\n",
    "import random"
   ]
  },
  {
   "cell_type": "code",
   "execution_count": 2,
   "id": "d16d12f0-6dde-4c74-a5e2-e7448e422f54",
   "metadata": {},
   "outputs": [],
   "source": [
    "def rotate(inputs, radians):\n",
    "    output = []\n",
    "    for i in range(len(inputs)):\n",
    "        if i%3 == 0: # x value\n",
    "            x = inputs[i]\n",
    "            y = inputs[i+1]\n",
    "\n",
    "            output.append(x * math.cos(radians) + y * math.sin(radians)) \n",
    "            output.append(-x * math.sin(radians) + y * math.cos(radians))\n",
    "            output.append(inputs[i+2])\n",
    "    return torch.Tensor(np.array([output]))\n",
    "\n",
    "def generalizeData(x,y):\n",
    "    for index, value in enumerate(x):\n",
    "        for i in range(2):\n",
    "            \n",
    "            randRotation = random.uniform(0, 2*math.pi)\n",
    "            randScale = random.uniform(.5, 1.5)\n",
    "            rotatedArray = rotate(value, randRotation)\n",
    "            \n",
    "            for i in range(2):\n",
    "                rotatedArray[i::3] *= randScale\n",
    "            \n",
    "            x = torch.concat([x, rotatedArray])\n",
    "            y = torch.concat([y, torch.Tensor(y[index]).view(-1,len(y[0]))])\n",
    "        \n",
    "    for i in range(3):\n",
    "        \n",
    "        mean, std, var = torch.mean(x[i::3]), \\\n",
    "        torch.std(x[i::3]), torch.var(x[i::3])\n",
    "        x[i::3] = (x[i::3]-mean)/std\n",
    "        \n",
    "    return torch.Tensor(x), torch.Tensor(y)"
   ]
  },
  {
   "cell_type": "code",
   "execution_count": 3,
   "id": "039f0858-f1f7-433b-aff2-bbb4307e03fd",
   "metadata": {},
   "outputs": [],
   "source": [
    "def loadData (dataName, Linear):\n",
    "    dataset = np.load(f\"datasets/{dataName}.npy\", allow_pickle=True)\n",
    "    \n",
    "    if not Linear:\n",
    "        x = torch.Tensor(np.array([i[0] for i in dataset])) / 255\n",
    "    else:\n",
    "        x = torch.Tensor(np.array([i[0] for i in dataset]))\n",
    "            \n",
    "    y = torch.Tensor(np.array([i[1] for i in dataset]))\n",
    "    \n",
    "    x, y = generalizeData(x, y)\n",
    "    \n",
    "    train_x, test_x, train_y, test_y = train_test_split(x, y, test_size=0.1, random_state=42)\n",
    "    \n",
    "    return train_x, test_x, train_y, test_y"
   ]
  },
  {
   "cell_type": "code",
   "execution_count": 4,
   "id": "e4f00577-f5da-459b-8e74-d515fd92b329",
   "metadata": {},
   "outputs": [],
   "source": [
    "savetrainedModel = True\n",
    "Linear = True\n",
    "\n",
    "device = torch.device(\"cuda:0\")"
   ]
  },
  {
   "cell_type": "code",
   "execution_count": 5,
   "id": "6cf32239-5e38-43ff-a1fb-8ad04bb8d3cb",
   "metadata": {},
   "outputs": [
    {
     "data": {
      "text/plain": [
       "Sequential(\n",
       "  (0): Linear(in_features=60, out_features=64, bias=True)\n",
       "  (1): ReLU()\n",
       "  (2): Linear(in_features=64, out_features=128, bias=True)\n",
       "  (3): ReLU()\n",
       "  (4): Linear(in_features=128, out_features=128, bias=True)\n",
       "  (5): ReLU()\n",
       "  (6): Linear(in_features=128, out_features=6, bias=True)\n",
       ")"
      ]
     },
     "execution_count": 5,
     "metadata": {},
     "output_type": "execute_result"
    }
   ],
   "source": [
    "modelFileName = [\"one_mv1\", \"one_mv2\"]\n",
    "dataFileName = [\"hands_xy_NN\", \"one_xyz\"]\n",
    "\n",
    "model = pickle.load(open(f\"models/untrained/{modelFileName[1]}\", 'rb'))\n",
    "model"
   ]
  },
  {
   "cell_type": "code",
   "execution_count": 6,
   "id": "05b3548d-02a2-4854-9738-0602d4b27f9a",
   "metadata": {},
   "outputs": [],
   "source": [
    "train_x, test_x, train_y, test_y = loadData (dataFileName[1], Linear)"
   ]
  },
  {
   "cell_type": "code",
   "execution_count": 7,
   "id": "672cf639-b887-4e39-97ee-6d4b5c9e00a8",
   "metadata": {},
   "outputs": [
    {
     "ename": "RuntimeError",
     "evalue": "Expected all tensors to be on the same device, but found at least two devices, cuda:0 and cpu! (when checking argument for argument mat2 in method wrapper_mm)",
     "output_type": "error",
     "traceback": [
      "\u001b[1;31m---------------------------------------------------------------------------\u001b[0m",
      "\u001b[1;31mRuntimeError\u001b[0m                              Traceback (most recent call last)",
      "\u001b[1;32m~\\AppData\\Local\\Temp/ipykernel_8180/3921857967.py\u001b[0m in \u001b[0;36m<module>\u001b[1;34m\u001b[0m\n\u001b[0;32m      1\u001b[0m \u001b[1;31m# train_x[0].shape\u001b[0m\u001b[1;33m\u001b[0m\u001b[1;33m\u001b[0m\u001b[0m\n\u001b[1;32m----> 2\u001b[1;33m \u001b[0mmodel\u001b[0m\u001b[1;33m(\u001b[0m\u001b[0mtrain_x\u001b[0m\u001b[1;33m[\u001b[0m\u001b[1;36m0\u001b[0m\u001b[1;33m]\u001b[0m\u001b[1;33m.\u001b[0m\u001b[0mto\u001b[0m\u001b[1;33m(\u001b[0m\u001b[0mdevice\u001b[0m\u001b[1;33m)\u001b[0m\u001b[1;33m)\u001b[0m\u001b[1;33m\u001b[0m\u001b[1;33m\u001b[0m\u001b[0m\n\u001b[0m",
      "\u001b[1;32mC:\\ProgramData\\Anaconda3\\lib\\site-packages\\torch\\nn\\modules\\module.py\u001b[0m in \u001b[0;36m_call_impl\u001b[1;34m(self, *input, **kwargs)\u001b[0m\n\u001b[0;32m   1108\u001b[0m         if not (self._backward_hooks or self._forward_hooks or self._forward_pre_hooks or _global_backward_hooks\n\u001b[0;32m   1109\u001b[0m                 or _global_forward_hooks or _global_forward_pre_hooks):\n\u001b[1;32m-> 1110\u001b[1;33m             \u001b[1;32mreturn\u001b[0m \u001b[0mforward_call\u001b[0m\u001b[1;33m(\u001b[0m\u001b[1;33m*\u001b[0m\u001b[0minput\u001b[0m\u001b[1;33m,\u001b[0m \u001b[1;33m**\u001b[0m\u001b[0mkwargs\u001b[0m\u001b[1;33m)\u001b[0m\u001b[1;33m\u001b[0m\u001b[1;33m\u001b[0m\u001b[0m\n\u001b[0m\u001b[0;32m   1111\u001b[0m         \u001b[1;31m# Do not call functions when jit is used\u001b[0m\u001b[1;33m\u001b[0m\u001b[1;33m\u001b[0m\u001b[0m\n\u001b[0;32m   1112\u001b[0m         \u001b[0mfull_backward_hooks\u001b[0m\u001b[1;33m,\u001b[0m \u001b[0mnon_full_backward_hooks\u001b[0m \u001b[1;33m=\u001b[0m \u001b[1;33m[\u001b[0m\u001b[1;33m]\u001b[0m\u001b[1;33m,\u001b[0m \u001b[1;33m[\u001b[0m\u001b[1;33m]\u001b[0m\u001b[1;33m\u001b[0m\u001b[1;33m\u001b[0m\u001b[0m\n",
      "\u001b[1;32mC:\\ProgramData\\Anaconda3\\lib\\site-packages\\torch\\nn\\modules\\container.py\u001b[0m in \u001b[0;36mforward\u001b[1;34m(self, input)\u001b[0m\n\u001b[0;32m    139\u001b[0m     \u001b[1;32mdef\u001b[0m \u001b[0mforward\u001b[0m\u001b[1;33m(\u001b[0m\u001b[0mself\u001b[0m\u001b[1;33m,\u001b[0m \u001b[0minput\u001b[0m\u001b[1;33m)\u001b[0m\u001b[1;33m:\u001b[0m\u001b[1;33m\u001b[0m\u001b[1;33m\u001b[0m\u001b[0m\n\u001b[0;32m    140\u001b[0m         \u001b[1;32mfor\u001b[0m \u001b[0mmodule\u001b[0m \u001b[1;32min\u001b[0m \u001b[0mself\u001b[0m\u001b[1;33m:\u001b[0m\u001b[1;33m\u001b[0m\u001b[1;33m\u001b[0m\u001b[0m\n\u001b[1;32m--> 141\u001b[1;33m             \u001b[0minput\u001b[0m \u001b[1;33m=\u001b[0m \u001b[0mmodule\u001b[0m\u001b[1;33m(\u001b[0m\u001b[0minput\u001b[0m\u001b[1;33m)\u001b[0m\u001b[1;33m\u001b[0m\u001b[1;33m\u001b[0m\u001b[0m\n\u001b[0m\u001b[0;32m    142\u001b[0m         \u001b[1;32mreturn\u001b[0m \u001b[0minput\u001b[0m\u001b[1;33m\u001b[0m\u001b[1;33m\u001b[0m\u001b[0m\n\u001b[0;32m    143\u001b[0m \u001b[1;33m\u001b[0m\u001b[0m\n",
      "\u001b[1;32mC:\\ProgramData\\Anaconda3\\lib\\site-packages\\torch\\nn\\modules\\module.py\u001b[0m in \u001b[0;36m_call_impl\u001b[1;34m(self, *input, **kwargs)\u001b[0m\n\u001b[0;32m   1108\u001b[0m         if not (self._backward_hooks or self._forward_hooks or self._forward_pre_hooks or _global_backward_hooks\n\u001b[0;32m   1109\u001b[0m                 or _global_forward_hooks or _global_forward_pre_hooks):\n\u001b[1;32m-> 1110\u001b[1;33m             \u001b[1;32mreturn\u001b[0m \u001b[0mforward_call\u001b[0m\u001b[1;33m(\u001b[0m\u001b[1;33m*\u001b[0m\u001b[0minput\u001b[0m\u001b[1;33m,\u001b[0m \u001b[1;33m**\u001b[0m\u001b[0mkwargs\u001b[0m\u001b[1;33m)\u001b[0m\u001b[1;33m\u001b[0m\u001b[1;33m\u001b[0m\u001b[0m\n\u001b[0m\u001b[0;32m   1111\u001b[0m         \u001b[1;31m# Do not call functions when jit is used\u001b[0m\u001b[1;33m\u001b[0m\u001b[1;33m\u001b[0m\u001b[0m\n\u001b[0;32m   1112\u001b[0m         \u001b[0mfull_backward_hooks\u001b[0m\u001b[1;33m,\u001b[0m \u001b[0mnon_full_backward_hooks\u001b[0m \u001b[1;33m=\u001b[0m \u001b[1;33m[\u001b[0m\u001b[1;33m]\u001b[0m\u001b[1;33m,\u001b[0m \u001b[1;33m[\u001b[0m\u001b[1;33m]\u001b[0m\u001b[1;33m\u001b[0m\u001b[1;33m\u001b[0m\u001b[0m\n",
      "\u001b[1;32mC:\\ProgramData\\Anaconda3\\lib\\site-packages\\torch\\nn\\modules\\linear.py\u001b[0m in \u001b[0;36mforward\u001b[1;34m(self, input)\u001b[0m\n\u001b[0;32m    101\u001b[0m \u001b[1;33m\u001b[0m\u001b[0m\n\u001b[0;32m    102\u001b[0m     \u001b[1;32mdef\u001b[0m \u001b[0mforward\u001b[0m\u001b[1;33m(\u001b[0m\u001b[0mself\u001b[0m\u001b[1;33m,\u001b[0m \u001b[0minput\u001b[0m\u001b[1;33m:\u001b[0m \u001b[0mTensor\u001b[0m\u001b[1;33m)\u001b[0m \u001b[1;33m->\u001b[0m \u001b[0mTensor\u001b[0m\u001b[1;33m:\u001b[0m\u001b[1;33m\u001b[0m\u001b[1;33m\u001b[0m\u001b[0m\n\u001b[1;32m--> 103\u001b[1;33m         \u001b[1;32mreturn\u001b[0m \u001b[0mF\u001b[0m\u001b[1;33m.\u001b[0m\u001b[0mlinear\u001b[0m\u001b[1;33m(\u001b[0m\u001b[0minput\u001b[0m\u001b[1;33m,\u001b[0m \u001b[0mself\u001b[0m\u001b[1;33m.\u001b[0m\u001b[0mweight\u001b[0m\u001b[1;33m,\u001b[0m \u001b[0mself\u001b[0m\u001b[1;33m.\u001b[0m\u001b[0mbias\u001b[0m\u001b[1;33m)\u001b[0m\u001b[1;33m\u001b[0m\u001b[1;33m\u001b[0m\u001b[0m\n\u001b[0m\u001b[0;32m    104\u001b[0m \u001b[1;33m\u001b[0m\u001b[0m\n\u001b[0;32m    105\u001b[0m     \u001b[1;32mdef\u001b[0m \u001b[0mextra_repr\u001b[0m\u001b[1;33m(\u001b[0m\u001b[0mself\u001b[0m\u001b[1;33m)\u001b[0m \u001b[1;33m->\u001b[0m \u001b[0mstr\u001b[0m\u001b[1;33m:\u001b[0m\u001b[1;33m\u001b[0m\u001b[1;33m\u001b[0m\u001b[0m\n",
      "\u001b[1;31mRuntimeError\u001b[0m: Expected all tensors to be on the same device, but found at least two devices, cuda:0 and cpu! (when checking argument for argument mat2 in method wrapper_mm)"
     ]
    }
   ],
   "source": [
    "# train_x[0].shape\n",
    "model(train_x[0].to(device))"
   ]
  },
  {
   "cell_type": "code",
   "execution_count": null,
   "id": "d745be33-3118-4d88-974d-6a429299e5ea",
   "metadata": {},
   "outputs": [],
   "source": [
    "print(train_x.shape, train_x[0])"
   ]
  },
  {
   "cell_type": "code",
   "execution_count": null,
   "id": "238eeca4-04fe-4ba8-a3ef-6591f20be94a",
   "metadata": {},
   "outputs": [],
   "source": [
    "train_y[5]"
   ]
  },
  {
   "cell_type": "code",
   "execution_count": null,
   "id": "46e745f6-ef5f-4de3-8486-ef4a25359c06",
   "metadata": {},
   "outputs": [],
   "source": [
    "plt.scatter(train_x[2][::3],train_x[2][1::3])"
   ]
  },
  {
   "cell_type": "code",
   "execution_count": null,
   "id": "fae4f400-65b2-4a4c-ba91-4856b95e334d",
   "metadata": {},
   "outputs": [],
   "source": [
    "print(train_x[4], train_y[4])\n",
    "# {'bye': 0, 'hello': 1, 'help': 2, 'no': 3, 'unknown': 4, 'yes': 5, 'you': 6}"
   ]
  },
  {
   "cell_type": "code",
   "execution_count": null,
   "id": "a447e9e7-cc98-490c-9478-6d0371d7576b",
   "metadata": {},
   "outputs": [],
   "source": [
    "train_x[:2]"
   ]
  },
  {
   "cell_type": "code",
   "execution_count": null,
   "id": "639ea363-8f9b-4c29-bdfe-3ab2035758e1",
   "metadata": {},
   "outputs": [],
   "source": [
    "import matplotlib.pyplot as plt\n",
    "\n",
    "def train(net, BATCH_SIZE, EPOCHS):\n",
    "    loss_function = nn.MSELoss()\n",
    "    loss_x = []\n",
    "    optimizer = optim.Adam(net.parameters(), lr = 0.001)\n",
    "    \n",
    "    for epoch in range(EPOCHS):\n",
    "        for i in tqdm(range(0, len(train_x), BATCH_SIZE)):\n",
    "            batch_X = train_x[i:i+BATCH_SIZE].view(-1,60).to(device)\n",
    "            batch_y = train_y[i:i+BATCH_SIZE].to(device)\n",
    "            \n",
    "            net.zero_grad()\n",
    "            \n",
    "            outputs = net(batch_X)\n",
    "            loss = loss_function(outputs, batch_y)\n",
    "            loss.backward()\n",
    "            optimizer.step()\n",
    "            \n",
    "        loss_x.append(loss.item())\n",
    "        print(loss)\n",
    "        \n",
    "    plt.plot(loss_x)\n",
    "    \n",
    "def test(net):\n",
    "    correct = 0\n",
    "    total = 0\n",
    "    with torch.no_grad():\n",
    "        for i in tqdm(range(len(test_x))):\n",
    "            real_class = torch.argmax(test_y[i]).to(device)\n",
    "            net_out = net(test_x[i].view(-1,60).to(device))[0]\n",
    "            predicted_class = torch.argmax(net_out)\n",
    "            \n",
    "            if predicted_class == real_class:\n",
    "                correct += 1\n",
    "            total += 1\n",
    "    print(\"Accuracy: \", round(correct/total, 3))"
   ]
  },
  {
   "cell_type": "code",
   "execution_count": null,
   "id": "f2567615-5d96-4636-b5a6-114b28f79fb1",
   "metadata": {},
   "outputs": [],
   "source": [
    "# model2 = pickle.load(open(f\"models/trained/one_t_s1\", 'rb'))\n",
    "# test(model2)"
   ]
  },
  {
   "cell_type": "code",
   "execution_count": null,
   "id": "3fd8d3f1-7a31-48fb-9323-06c63a5aaec1",
   "metadata": {},
   "outputs": [],
   "source": [
    "# model3 = pickle.load(open(f\"models/trained/one_tg_s1\", 'rb'))\n",
    "# test(model3)"
   ]
  },
  {
   "cell_type": "code",
   "execution_count": null,
   "id": "6dadf583-d115-4709-ba1c-f99de3e4d0e2",
   "metadata": {},
   "outputs": [],
   "source": [
    "BATCH_SIZE = 35\n",
    "EPOCHS = 30\n",
    "train(model, BATCH_SIZE, EPOCHS)"
   ]
  },
  {
   "cell_type": "code",
   "execution_count": null,
   "id": "2ebe2162-7078-4fa5-8166-54ed09ccd53b",
   "metadata": {},
   "outputs": [],
   "source": [
    "#[yes, other, no, fuck]\n",
    "print(model(test_x[5].view(-1,60).to(device)), test_y[5])\n",
    "# plt.imshow(test_x[4].view(30,30), cmap='gray')"
   ]
  },
  {
   "cell_type": "code",
   "execution_count": null,
   "id": "37d47511-7ceb-4451-b47f-2492b10a68cf",
   "metadata": {},
   "outputs": [],
   "source": [
    "test(model)"
   ]
  },
  {
   "cell_type": "code",
   "execution_count": null,
   "id": "b7aa384d-5244-4f28-a836-42fd07dc54a8",
   "metadata": {},
   "outputs": [],
   "source": [
    "test_x.shape"
   ]
  },
  {
   "cell_type": "code",
   "execution_count": null,
   "id": "d90bf732-c278-4351-9d93-89508da9b90c",
   "metadata": {},
   "outputs": [],
   "source": [
    "test_y[:3]"
   ]
  },
  {
   "cell_type": "code",
   "execution_count": null,
   "id": "35b9c766-4d72-4ff3-8e2f-9b03a04951e2",
   "metadata": {},
   "outputs": [],
   "source": [
    "if savetrainedModel:\n",
    "    trainedmodelpath = 'models/trained/'\n",
    "    pickle.dump(model, open(trainedmodelpath + \"one_tngs_s2\", 'wb'))"
   ]
  },
  {
   "cell_type": "code",
   "execution_count": null,
   "id": "1daeac52-ad39-4129-b591-b38ad74093d7",
   "metadata": {},
   "outputs": [],
   "source": [
    "# Testing Multiple Functions\n",
    "# {'bye': 0, 'hello': 1, 'help': 2, 'no': 3, 'unknown': 4, 'yes': 5, 'you': 6}"
   ]
  }
 ],
 "metadata": {
  "kernelspec": {
   "display_name": "Python 3 (ipykernel)",
   "language": "python",
   "name": "python3"
  },
  "language_info": {
   "codemirror_mode": {
    "name": "ipython",
    "version": 3
   },
   "file_extension": ".py",
   "mimetype": "text/x-python",
   "name": "python",
   "nbconvert_exporter": "python",
   "pygments_lexer": "ipython3",
   "version": "3.9.7"
  }
 },
 "nbformat": 4,
 "nbformat_minor": 5
}
