{
 "cells": [
  {
   "cell_type": "code",
   "execution_count": null,
   "id": "9091913c-b331-40cf-b0af-69d311b1f56e",
   "metadata": {},
   "outputs": [],
   "source": [
    "import os\n",
    "import math\n",
    "\n",
    "import cv2\n",
    "import numpy as np\n",
    "from tqdm import tqdm\n",
    "\n",
    "import torch\n",
    "import torch.nn as nn\n",
    "import torch.nn.functional as F\n",
    "import torch.optim as optim\n",
    "\n",
    "import matplotlib.pyplot as plt\n",
    "import matplotlib.image as mpimg\n",
    "from sklearn.model_selection import train_test_split\n",
    "\n",
    "import pickle"
   ]
  },
  {
   "cell_type": "code",
   "execution_count": 3,
   "id": "5aca557d-f78c-4933-81d2-d5ffc283c191",
   "metadata": {},
   "outputs": [],
   "source": [
    "#[yes, other, no, fuck]\n",
    "device = torch.device(\"cuda:0\")\n",
    "savemodel = True"
   ]
  },
  {
   "cell_type": "code",
   "execution_count": 10,
   "id": "adf77fe5-f91a-4b97-81a6-9504170220aa",
   "metadata": {},
   "outputs": [
    {
     "data": {
      "text/plain": [
       "Sequential(\n",
       "  (0): Conv2d(1, 32, kernel_size=(4, 4), stride=(1, 1))\n",
       "  (1): ReLU()\n",
       "  (2): MaxPool2d(kernel_size=(2, 2), stride=(2, 2), padding=0, dilation=1, ceil_mode=False)\n",
       "  (3): Conv2d(32, 64, kernel_size=(4, 4), stride=(1, 1))\n",
       "  (4): ReLU()\n",
       "  (5): MaxPool2d(kernel_size=(2, 2), stride=(2, 2), padding=0, dilation=1, ceil_mode=False)\n",
       "  (6): Conv2d(64, 128, kernel_size=(4, 4), stride=(1, 1))\n",
       "  (7): ReLU()\n",
       "  (8): MaxPool2d(kernel_size=(2, 2), stride=(2, 2), padding=0, dilation=1, ceil_mode=False)\n",
       "  (9): Flatten(start_dim=1, end_dim=-1)\n",
       "  (10): Linear(in_features=128, out_features=128, bias=True)\n",
       "  (11): ReLU()\n",
       "  (12): Linear(in_features=128, out_features=4, bias=True)\n",
       ")"
      ]
     },
     "execution_count": 10,
     "metadata": {},
     "output_type": "execute_result"
    }
   ],
   "source": [
    "photos_model_v1 = nn.Sequential(\n",
    "    nn.Conv2d(1, 32, 4),\n",
    "    nn.ReLU(),\n",
    "    nn.MaxPool2d((2,2)),\n",
    "    \n",
    "    nn.Conv2d(32, 64, 4),\n",
    "    nn.ReLU(),\n",
    "    nn.MaxPool2d((2,2)),\n",
    "    \n",
    "    nn.Conv2d(64, 128, 4),\n",
    "    nn.ReLU(),\n",
    "    nn.MaxPool2d((2,2)),\n",
    "    \n",
    "    nn.Flatten(),\n",
    "    \n",
    "    nn.Linear(128, 128),\n",
    "    nn.ReLU(),\n",
    "    \n",
    "    nn.Linear(128, 4)\n",
    ").to(device)\n",
    "photos_model_v1"
   ]
  },
  {
   "cell_type": "code",
   "execution_count": 3,
   "id": "08ca154a-6f0e-4b03-93ed-3ce52a7906a4",
   "metadata": {},
   "outputs": [
    {
     "ename": "NameError",
     "evalue": "name 'device' is not defined",
     "output_type": "error",
     "traceback": [
      "\u001b[1;31m---------------------------------------------------------------------------\u001b[0m",
      "\u001b[1;31mNameError\u001b[0m                                 Traceback (most recent call last)",
      "\u001b[1;32m~\\AppData\\Local\\Temp/ipykernel_6884/3567597188.py\u001b[0m in \u001b[0;36m<module>\u001b[1;34m\u001b[0m\n\u001b[0;32m     14\u001b[0m     \u001b[0mnn\u001b[0m\u001b[1;33m.\u001b[0m\u001b[0mLinear\u001b[0m\u001b[1;33m(\u001b[0m\u001b[1;36m128\u001b[0m\u001b[1;33m,\u001b[0m \u001b[0mout_features\u001b[0m\u001b[1;33m)\u001b[0m\u001b[1;33m,\u001b[0m\u001b[1;33m\u001b[0m\u001b[1;33m\u001b[0m\u001b[0m\n\u001b[0;32m     15\u001b[0m \u001b[1;33m\u001b[0m\u001b[0m\n\u001b[1;32m---> 16\u001b[1;33m ).to(device)\n\u001b[0m\u001b[0;32m     17\u001b[0m \u001b[0mone_mv1\u001b[0m\u001b[1;33m\u001b[0m\u001b[1;33m\u001b[0m\u001b[0m\n",
      "\u001b[1;31mNameError\u001b[0m: name 'device' is not defined"
     ]
    }
   ],
   "source": [
    "in_features = 40\n",
    "out_features = 4\n",
    "\n",
    "one_mv1 = nn.Sequential(\n",
    "    nn.Linear(in_features, 64),\n",
    "    nn.ReLU(),\n",
    "    \n",
    "    nn.Linear(64, 128),\n",
    "    nn.ReLU(),\n",
    "    \n",
    "    nn.Linear(128, 128),\n",
    "    nn.ReLU(),\n",
    "    \n",
    "    nn.Linear(128, out_features),\n",
    "    \n",
    ")\n",
    "one_mv1"
   ]
  },
  {
   "cell_type": "code",
   "execution_count": 4,
   "id": "9ec22840-61f6-459c-beb5-50d690623ebe",
   "metadata": {},
   "outputs": [
    {
     "data": {
      "text/plain": [
       "Sequential(\n",
       "  (0): Linear(in_features=60, out_features=64, bias=True)\n",
       "  (1): ReLU()\n",
       "  (2): Linear(in_features=64, out_features=128, bias=True)\n",
       "  (3): ReLU()\n",
       "  (4): Linear(in_features=128, out_features=128, bias=True)\n",
       "  (5): ReLU()\n",
       "  (6): Linear(in_features=128, out_features=9, bias=True)\n",
       ")"
      ]
     },
     "execution_count": 4,
     "metadata": {},
     "output_type": "execute_result"
    }
   ],
   "source": [
    "in_features = 60\n",
    "out_features = 9\n",
    "\n",
    "one_mv2 = nn.Sequential(\n",
    "    nn.Linear(in_features, 64),\n",
    "    nn.ReLU(),\n",
    "    \n",
    "    nn.Linear(64, 128),\n",
    "    nn.ReLU(),\n",
    "    \n",
    "    nn.Linear(128, 128),\n",
    "    nn.ReLU(),\n",
    "    \n",
    "    nn.Linear(128, out_features),\n",
    "    \n",
    ")\n",
    "one_mv2"
   ]
  },
  {
   "cell_type": "code",
   "execution_count": 1,
   "id": "7d2b9ea2-088b-4446-bb4b-c24299e6c10f",
   "metadata": {},
   "outputs": [
    {
     "data": {
      "text/plain": [
       "Sequential(\n",
       "  (0): Linear(in_features=120, out_features=128, bias=True)\n",
       "  (1): ReLU()\n",
       "  (2): Linear(in_features=128, out_features=256, bias=True)\n",
       "  (3): ReLU()\n",
       "  (4): Linear(in_features=256, out_features=128, bias=True)\n",
       "  (5): ReLU()\n",
       "  (6): Linear(in_features=128, out_features=128, bias=True)\n",
       "  (7): ReLU()\n",
       "  (8): Linear(in_features=128, out_features=18, bias=True)\n",
       ")"
      ]
     },
     "execution_count": 7,
     "metadata": {},
     "output_type": "execute_result"
    }
   ],
   "source": [
    "in_features = 120\n",
    "out_features = 18\n",
    "\n",
    "twos_mv1 = nn.Sequential(\n",
    "    nn.Linear(in_features, 128),\n",
    "    nn.ReLU(),\n",
    "    \n",
    "    nn.Linear(128, 128),\n",
    "    nn.ReLU(),\n",
    "    \n",
    "    nn.Linear(128, 128),\n",
    "    nn.ReLU(),\n",
    "    \n",
    "    nn.Linear(128, out_features),\n",
    "    \n",
    ")\n",
    "twos_mv1"
   ]
  },
  {
   "cell_type": "code",
   "execution_count": 12,
   "id": "82bd3159-f790-402b-86fd-f4aa96af84bf",
   "metadata": {},
   "outputs": [
    {
     "data": {
      "text/plain": [
       "Sequential(\n",
       "  (0): Linear(in_features=120, out_features=256, bias=True)\n",
       "  (1): ReLU()\n",
       "  (2): Linear(in_features=256, out_features=256, bias=True)\n",
       "  (3): ReLU()\n",
       "  (4): Linear(in_features=256, out_features=256, bias=True)\n",
       "  (5): ReLU()\n",
       "  (6): Linear(in_features=256, out_features=128, bias=True)\n",
       "  (7): ReLU()\n",
       "  (8): Linear(in_features=128, out_features=40, bias=True)\n",
       ")"
      ]
     },
     "execution_count": 12,
     "metadata": {},
     "output_type": "execute_result"
    }
   ],
   "source": [
    "in_features = 120\n",
    "out_features = 40\n",
    "\n",
    "twos_mv2 = nn.Sequential(\n",
    "    nn.Linear(in_features, 256),\n",
    "    nn.ReLU(),\n",
    "    \n",
    "    nn.Linear(256, 256),\n",
    "    nn.ReLU(),\n",
    "    \n",
    "    nn.Linear(256, 256),\n",
    "    nn.ReLU(),\n",
    "    \n",
    "    nn.Linear(256, 256),\n",
    "    nn.ReLU(),\n",
    "    \n",
    "    nn.Linear(256, 128),\n",
    "    nn.ReLU(),\n",
    "    \n",
    "    nn.Linear(128, out_features),\n",
    "    \n",
    ")\n",
    "twos_mv2"
   ]
  },
  {
   "cell_type": "code",
   "execution_count": 6,
   "id": "67a15574-8e2a-48a7-add0-8d3c97db999f",
   "metadata": {},
   "outputs": [
    {
     "data": {
      "text/plain": [
       "tensor([ 0.0256, -0.0628,  0.0322,  0.0306, -0.0470,  0.0775, -0.0702, -0.0125,\n",
       "         0.0819], grad_fn=<AddBackward0>)"
      ]
     },
     "execution_count": 6,
     "metadata": {},
     "output_type": "execute_result"
    }
   ],
   "source": [
    "test_input = torch.Tensor(np.array([0]*60))\n",
    "one_mv2(test_input)"
   ]
  },
  {
   "cell_type": "code",
   "execution_count": 13,
   "id": "ce6517a3-3715-4d86-b635-430f72bf71a4",
   "metadata": {},
   "outputs": [],
   "source": [
    "filename = ['photos_model_v1', 'hands_model_v1', 'twos_mv1', 'twos_mv2']\n",
    "untrainedmodelpath = 'models/untrained/'\n",
    "pickle.dump(twos_mv2, open(untrainedmodelpath + filename[3], 'wb'))"
   ]
  },
  {
   "cell_type": "code",
   "execution_count": null,
   "id": "ac4483f0-8a52-48bf-9687-f3a9e77812f5",
   "metadata": {},
   "outputs": [],
   "source": []
  }
 ],
 "metadata": {
  "kernelspec": {
   "display_name": "Python 3 (ipykernel)",
   "language": "python",
   "name": "python3"
  },
  "language_info": {
   "codemirror_mode": {
    "name": "ipython",
    "version": 3
   },
   "file_extension": ".py",
   "mimetype": "text/x-python",
   "name": "python",
   "nbconvert_exporter": "python",
   "pygments_lexer": "ipython3",
   "version": "3.9.7"
  }
 },
 "nbformat": 4,
 "nbformat_minor": 5
}
