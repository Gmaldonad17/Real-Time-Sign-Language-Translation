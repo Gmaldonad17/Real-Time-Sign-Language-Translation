{
 "cells": [
  {
   "cell_type": "code",
   "execution_count": 160,
   "id": "f1a7cccf-64b9-46a3-854d-9e020e3ab681",
   "metadata": {},
   "outputs": [],
   "source": [
    "import os\n",
    "import cv2\n",
    "import mediapipe as mp\n",
    "import time\n",
    "import numpy as np\n",
    "import cmath\n",
    "\n",
    "from sklearn import preprocessing"
   ]
  },
  {
   "cell_type": "code",
   "execution_count": 161,
   "id": "324254e2-668e-41c2-b451-83b188aa0150",
   "metadata": {},
   "outputs": [],
   "source": [
    "# Notes\n",
    "# Yes does not function with right hand, add more samples"
   ]
  },
  {
   "cell_type": "code",
   "execution_count": 335,
   "id": "65de39ee-a422-4757-aa62-cfa31045395f",
   "metadata": {},
   "outputs": [
    {
     "data": {
      "text/plain": [
       "'commit'"
      ]
     },
     "execution_count": 335,
     "metadata": {},
     "output_type": "execute_result"
    }
   ],
   "source": [
    "groups = os.listdir('Resources/')[1:]\n",
    "classes = {}\n",
    "for index, value in enumerate(groups):\n",
    "    classes[value] = index\n",
    "\n",
    "recordedType = groups[16]\n",
    "twohands = True\n",
    "\n",
    "recordedType\n",
    "# classes"
   ]
  },
  {
   "cell_type": "code",
   "execution_count": 336,
   "id": "0d07ca76-f5c7-49a6-bd6d-58e969530c6e",
   "metadata": {},
   "outputs": [],
   "source": [
    "mpHands = mp.solutions.hands\n",
    "\n",
    "hands = mpHands.Hands(\n",
    "    static_image_mode=False,\n",
    "    max_num_hands=2,\n",
    "    min_detection_confidence=0.5)\n",
    "\n",
    "mpDraw = mp.solutions.drawing_utils"
   ]
  },
  {
   "cell_type": "code",
   "execution_count": 337,
   "id": "50955f5c-b20a-4ed4-9e56-205c128a0c57",
   "metadata": {
    "scrolled": true,
    "tags": []
   },
   "outputs": [
    {
     "name": "stdout",
     "output_type": "stream",
     "text": [
      "only one hand detected Error\n",
      "only one hand detected Error\n",
      "only one hand detected Error\n",
      "only one hand detected Error\n",
      "only one hand detected Error\n",
      "only one hand detected Error\n",
      "only one hand detected Error\n",
      "only one hand detected Error\n",
      "only one hand detected Error\n",
      "only one hand detected Error\n",
      "only one hand detected Error\n",
      "only one hand detected Error\n",
      "only one hand detected Error\n",
      "only one hand detected Error\n",
      "only one hand detected Error\n",
      "only one hand detected Error\n",
      "only one hand detected Error\n",
      "only one hand detected Error\n",
      "only one hand detected Error\n",
      "only one hand detected Error\n",
      "only one hand detected Error\n",
      "only one hand detected Error\n",
      "only one hand detected Error\n",
      "only one hand detected Error\n",
      "only one hand detected Error\n",
      "only one hand detected Error\n",
      "only one hand detected Error\n"
     ]
    }
   ],
   "source": [
    "cap = cv2.VideoCapture(0)\n",
    "\n",
    "pTime = 0\n",
    "cTime = 0\n",
    "count = 0\n",
    "save = True\n",
    "addnewdata = True\n",
    "\n",
    "if addnewdata:\n",
    "    dataset = list( np.load(f\"Resources/{recordedType}/{recordedType}.npy\", allow_pickle=True) )\n",
    "    \n",
    "else:\n",
    "    dataset = []\n",
    "\n",
    "while True:\n",
    "    \n",
    "    success, img = cap.read()\n",
    "    resolution = img.shape\n",
    "    \n",
    "    imgRGB = cv2.cvtColor(img, cv2.COLOR_BGR2RGB)\n",
    "    handResults = hands.process(imgRGB)\n",
    "    \n",
    "    if handResults.multi_hand_landmarks:\n",
    "        count += 1\n",
    "        handcords = []\n",
    "        \n",
    "        for handLms in handResults.multi_hand_landmarks:\n",
    "            for id, lm in enumerate(handLms.landmark):\n",
    "                if id == 0:\n",
    "                    base = [lm.x*resolution[1], lm.y*resolution[0]]\n",
    "                else:\n",
    "                    cord = [lm.x*resolution[1]-base[0],lm.y*resolution[0]-base[1], lm.z]\n",
    "                    cv2.circle(img, (int(cord[0])+200, int(cord[1])+200), 10, (0,0,0), 5)\n",
    "                    cv2.circle(img, (int(base[0])+200, int(base[1])+200), 10, (255,0,0), 5)\n",
    "                    \n",
    "                    handcords += cord\n",
    "                    \n",
    "            mpDraw.draw_landmarks(img, handLms, mpHands.HAND_CONNECTIONS)\n",
    "        \n",
    "        if len(handcords) not in [120, 60]:\n",
    "            print(\"error has occurred:\", len(handcords))\n",
    "            continue\n",
    "        \n",
    "        if len(handcords) == 60 and twohands:\n",
    "            print(\"only one hand detected Error\")\n",
    "            continue\n",
    "            \n",
    "        if len(handcords) == 120 and not twohands:\n",
    "            print(\"Two hand detected Error\")\n",
    "#             print(handcords[:60])\n",
    "#             print(handcords[60:])\n",
    "\n",
    "            continue\n",
    "            \n",
    "        if count%7 == 0 and save:\n",
    "            y = np.eye(1)\n",
    "            newdata = np.array(handcords)\n",
    "            \n",
    "            for i in range(3):\n",
    "                newdata[i::3] = preprocessing.normalize([newdata[i::3]])\n",
    "                \n",
    "            dataset.append([newdata, y] )\n",
    "            \n",
    "        cv2.circle(img, (300,300), 10, (0, 100,100), 5)\n",
    "                \n",
    "    cTime= time.time()\n",
    "    fps = 1/(cTime-pTime)\n",
    "    pTime = cTime\n",
    "    \n",
    "    cv2.putText(img, str(int(fps)) + f\" {count}\", (10,70), cv2.FONT_HERSHEY_PLAIN, 3, (255,255,255), 3)\n",
    "    \n",
    "    cv2.imshow(\"img\", img)\n",
    "    \n",
    "    if cv2.waitKey(1) & 0xFF == ord('q'):\n",
    "        break\n",
    "cap.release() "
   ]
  },
  {
   "cell_type": "code",
   "execution_count": 338,
   "id": "43b3d938-f57d-4e22-99a0-59b71851516b",
   "metadata": {},
   "outputs": [
    {
     "name": "stdout",
     "output_type": "stream",
     "text": [
      "(231, 2) commit\n"
     ]
    },
    {
     "name": "stderr",
     "output_type": "stream",
     "text": [
      "<ipython-input-338-da43c21ab4df>:1: VisibleDeprecationWarning: Creating an ndarray from ragged nested sequences (which is a list-or-tuple of lists-or-tuples-or ndarrays with different lengths or shapes) is deprecated. If you meant to do this, you must specify 'dtype=object' when creating the ndarray.\n",
      "  print(np.array(dataset).shape, recordedType)\n",
      "C:\\Users\\Owner\\anaconda3\\lib\\site-packages\\numpy\\core\\_asarray.py:171: VisibleDeprecationWarning: Creating an ndarray from ragged nested sequences (which is a list-or-tuple of lists-or-tuples-or ndarrays with different lengths or shapes) is deprecated. If you meant to do this, you must specify 'dtype=object' when creating the ndarray.\n",
      "  return array(a, dtype, copy=False, order=order, subok=True)\n"
     ]
    }
   ],
   "source": [
    "print(np.array(dataset).shape, recordedType)\n",
    "if save:\n",
    "    np.save(f\"Resources/{recordedType}/{recordedType}.npy\", dataset)"
   ]
  },
  {
   "cell_type": "code",
   "execution_count": 7,
   "id": "10df436d-ba09-4b15-895f-b0468f3df187",
   "metadata": {},
   "outputs": [],
   "source": [
    "cap.release() "
   ]
  },
  {
   "cell_type": "code",
   "execution_count": 32,
   "id": "0043d44d-f022-4ad5-b285-0ec3120ece1d",
   "metadata": {},
   "outputs": [
    {
     "data": {
      "text/plain": [
       "185"
      ]
     },
     "execution_count": 32,
     "metadata": {},
     "output_type": "execute_result"
    }
   ],
   "source": [
    "len(dataset)\n",
    "# lEFT OFF\n",
    "# Two hands isnt working, trying one hand with xyz, deleted help "
   ]
  },
  {
   "cell_type": "code",
   "execution_count": null,
   "id": "bb4e20c9-23d6-418b-9344-6077cd92b98f",
   "metadata": {},
   "outputs": [],
   "source": []
  }
 ],
 "metadata": {
  "kernelspec": {
   "display_name": "Python 3",
   "language": "python",
   "name": "python3"
  },
  "language_info": {
   "codemirror_mode": {
    "name": "ipython",
    "version": 3
   },
   "file_extension": ".py",
   "mimetype": "text/x-python",
   "name": "python",
   "nbconvert_exporter": "python",
   "pygments_lexer": "ipython3",
   "version": "3.8.8"
  }
 },
 "nbformat": 4,
 "nbformat_minor": 5
}
