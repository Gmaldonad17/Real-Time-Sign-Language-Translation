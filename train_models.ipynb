{
 "cells": [
  {
   "cell_type": "code",
   "execution_count": 42,
   "id": "8d102ba1-2890-4cbf-8136-d19c95f9c11f",
   "metadata": {},
   "outputs": [],
   "source": [
    "import os\n",
    "import math\n",
    "\n",
    "import cv2\n",
    "import numpy as np\n",
    "from tqdm import tqdm\n",
    "\n",
    "import torch\n",
    "import torch.nn as nn\n",
    "import torch.nn.functional as F\n",
    "import torch.optim as optim\n",
    "\n",
    "import matplotlib.pyplot as plt\n",
    "import matplotlib.image as mpimg\n",
    "from sklearn.model_selection import train_test_split\n",
    "\n",
    "import pickle\n",
    "import random"
   ]
  },
  {
   "cell_type": "code",
   "execution_count": 43,
   "id": "d16d12f0-6dde-4c74-a5e2-e7448e422f54",
   "metadata": {},
   "outputs": [],
   "source": [
    "def rotate(inputs, radians):\n",
    "    output = []\n",
    "    for i in range(len(inputs)):\n",
    "        if i%3 == 0: # x value\n",
    "            x = inputs[i]\n",
    "            y = inputs[i+1]\n",
    "\n",
    "            output.append(x * math.cos(radians) + y * math.sin(radians)) \n",
    "            output.append(-x * math.sin(radians) + y * math.cos(radians))\n",
    "            output.append(inputs[i+2])\n",
    "    return torch.Tensor(np.array([output]))\n",
    "\n",
    "def generalizeData(x,y):\n",
    "    for index, value in enumerate(x):\n",
    "        for i in range(2):\n",
    "            \n",
    "            randRotation = random.uniform(math.pi/2, math.pi)\n",
    "            randScale = random.uniform(.5, 1.5)\n",
    "            rotatedArray = rotate(value, randRotation)\n",
    "            \n",
    "            for i in range(2):\n",
    "                rotatedArray[i::3] *= randScale\n",
    "            \n",
    "            x = torch.concat([x, rotatedArray])\n",
    "            y = torch.concat([y, torch.Tensor(y[index]).view(-1,len(y[0]))])\n",
    "        \n",
    "    # for x_array in x:\n",
    "    #     for i in range(3):\n",
    "    #         print(x_array)\n",
    "    #         x_array[i::3] = preprocessing.normalize([x_array[i::3]])\n",
    "        \n",
    "    return torch.Tensor(x), torch.Tensor(y)"
   ]
  },
  {
   "cell_type": "code",
   "execution_count": 44,
   "id": "039f0858-f1f7-433b-aff2-bbb4307e03fd",
   "metadata": {},
   "outputs": [],
   "source": [
    "def loadData (dataName):\n",
    "    dataset = np.load(f\"datasets/{dataName}.npy\", allow_pickle=True)\n",
    "    print(np.array([i[0] for i in dataset]).shape)\n",
    "    \n",
    "    x = torch.Tensor(np.array([i[0] for i in dataset]))\n",
    "    print(x[0])\n",
    "    y = torch.Tensor(np.array([i[1] for i in dataset]))\n",
    "    \n",
    "    # x, y = generalizeData(x, y)\n",
    "    \n",
    "    train_x, test_x, train_y, test_y = train_test_split(x, y, test_size=0.1, random_state=42)\n",
    "    \n",
    "    return train_x, test_x, train_y, test_y"
   ]
  },
  {
   "cell_type": "code",
   "execution_count": 45,
   "id": "e4f00577-f5da-459b-8e74-d515fd92b329",
   "metadata": {},
   "outputs": [],
   "source": [
    "savetrainedModel = True\n",
    "\n",
    "device = torch.device(\"cpu\")"
   ]
  },
  {
   "cell_type": "code",
   "execution_count": 46,
   "id": "6cf32239-5e38-43ff-a1fb-8ad04bb8d3cb",
   "metadata": {},
   "outputs": [
    {
     "data": {
      "text/plain": [
       "Sequential(\n",
       "  (0): Linear(in_features=120, out_features=256, bias=True)\n",
       "  (1): ReLU()\n",
       "  (2): Linear(in_features=256, out_features=256, bias=True)\n",
       "  (3): ReLU()\n",
       "  (4): Linear(in_features=256, out_features=256, bias=True)\n",
       "  (5): ReLU()\n",
       "  (6): Linear(in_features=256, out_features=256, bias=True)\n",
       "  (7): ReLU()\n",
       "  (8): Linear(in_features=256, out_features=128, bias=True)\n",
       "  (9): ReLU()\n",
       "  (10): Linear(in_features=128, out_features=84, bias=True)\n",
       ")"
      ]
     },
     "execution_count": 46,
     "metadata": {},
     "output_type": "execute_result"
    }
   ],
   "source": [
    "modelFileName = [\"one_mv1\", \"one_mv2_9\", \"twos_mv1\", \"twos_mv2\"]\n",
    "dataFileName = [\"hands_xy_NN\", \"one_xyz_9\",\"two_rand\", \"two_9\", \"two_5\" ]\n",
    "\n",
    "model = pickle.load(open(f\"models/untrained/{modelFileName[3]}\", 'rb'))\n",
    "model.to(device)"
   ]
  },
  {
   "cell_type": "code",
   "execution_count": 47,
   "id": "05b3548d-02a2-4854-9738-0602d4b27f9a",
   "metadata": {},
   "outputs": [
    {
     "name": "stdout",
     "output_type": "stream",
     "text": [
      "(17088, 120)\n",
      "tensor([ 0.2010, -0.0366, -0.1791,  0.3409, -0.1211, -0.2011,  0.3696, -0.2132,\n",
      "        -0.2500,  0.4106, -0.2786, -0.2439,  0.2916, -0.2201,  0.1267,  0.3267,\n",
      "        -0.3003, -0.1888,  0.2995, -0.2346, -0.3419,  0.2672, -0.1890, -0.3730,\n",
      "         0.1787, -0.2272,  0.1032,  0.2197, -0.2997, -0.2298,  0.1998, -0.2143,\n",
      "        -0.3082,  0.1759, -0.1770, -0.2607,  0.0628, -0.2241,  0.0153,  0.1031,\n",
      "        -0.2903, -0.3392,  0.0950, -0.2082, -0.2207,  0.0732, -0.1725, -0.0263,\n",
      "        -0.0691, -0.2147, -0.0884, -0.0130, -0.2721, -0.2804, -0.0010, -0.2201,\n",
      "        -0.1346, -0.0179, -0.1916,  0.0455,  0.6456,  0.3667,  0.4019,  0.5623,\n",
      "         0.4048,  0.6724,  0.6040,  0.6793,  0.6951,  0.6452,  0.2092,  0.7970,\n",
      "         0.2654,  0.0477,  0.0692,  0.2958,  0.3174,  0.1938,  0.7761,  0.5534,\n",
      "         0.0031,  0.0331,  0.5989,  0.1186,  0.0179,  0.2936,  0.4327,  0.8811,\n",
      "         0.3314,  0.2569,  0.7290,  0.3562,  0.2351,  0.9884,  0.9788,  0.9179,\n",
      "         0.7741,  0.1405,  0.3480,  0.5127,  0.6876,  0.3832,  0.4035,  0.7203,\n",
      "         0.9611,  0.4607,  0.2992,  0.2394,  0.0499,  0.9453,  0.3958,  0.7526,\n",
      "         0.8583,  0.8142,  0.8594,  0.1542,  0.8091,  0.3159,  0.0226,  0.1475])\n",
      "(17088, 120)\n"
     ]
    }
   ],
   "source": [
    "train_x, test_x, train_y, test_y = loadData (dataFileName[4])\n",
    "print(f\"({len(train_x)+len(test_x)}, 120)\")"
   ]
  },
  {
   "cell_type": "code",
   "execution_count": 48,
   "id": "672cf639-b887-4e39-97ee-6d4b5c9e00a8",
   "metadata": {},
   "outputs": [
    {
     "data": {
      "text/plain": [
       "tensor([ 0.0712, -0.0832, -0.0145, -0.0065, -0.0411,  0.0187,  0.0320, -0.0151,\n",
       "        -0.0728,  0.0839, -0.0388, -0.0280,  0.0468,  0.0787, -0.0954, -0.0378,\n",
       "         0.0788,  0.0870,  0.0243,  0.0746, -0.0164, -0.0675,  0.0263, -0.0018,\n",
       "         0.0082,  0.0547, -0.0551, -0.0254, -0.0460, -0.0194, -0.0764,  0.0832,\n",
       "        -0.0758,  0.0538,  0.0136, -0.0751, -0.0414,  0.0200, -0.0188, -0.0455,\n",
       "        -0.0658,  0.0618,  0.0826,  0.0002,  0.0637,  0.0649,  0.0092, -0.0328,\n",
       "         0.0207,  0.0115,  0.0918, -0.0437, -0.0562, -0.0403,  0.0133,  0.0409,\n",
       "        -0.0215, -0.0998,  0.0651, -0.0013,  0.0555,  0.0821,  0.0438, -0.0860,\n",
       "         0.0976, -0.0376,  0.0684, -0.0546,  0.0449, -0.0768, -0.0979,  0.0173,\n",
       "         0.0585,  0.0160,  0.0801, -0.0509,  0.0293,  0.0043, -0.0277, -0.0323,\n",
       "        -0.0297, -0.0571, -0.0153, -0.0235], grad_fn=<AddBackward0>)"
      ]
     },
     "execution_count": 48,
     "metadata": {},
     "output_type": "execute_result"
    }
   ],
   "source": [
    "# train_x[0].shape\n",
    "model(train_x[0].to(device))"
   ]
  },
  {
   "cell_type": "code",
   "execution_count": 49,
   "id": "d745be33-3118-4d88-974d-6a429299e5ea",
   "metadata": {},
   "outputs": [
    {
     "name": "stdout",
     "output_type": "stream",
     "text": [
      "torch.Size([15379, 120]) tensor([-0.0410, -0.1330, -0.0188, -0.0912, -0.2319, -0.0738, -0.1427, -0.2344,\n",
      "        -0.1258, -0.1840, -0.2302, -0.1790, -0.0408, -0.3344, -0.1518, -0.1357,\n",
      "        -0.2973, -0.2250, -0.1833, -0.2474, -0.2588, -0.2164, -0.2093, -0.2808,\n",
      "        -0.0262, -0.2457, -0.1820, -0.1317, -0.2004, -0.2410, -0.1187, -0.1574,\n",
      "        -0.2329, -0.0937, -0.1518, -0.2337, -0.0207, -0.1384, -0.2098, -0.1225,\n",
      "        -0.1082, -0.2556, -0.1062, -0.0758, -0.2109, -0.0800, -0.0860, -0.1862,\n",
      "        -0.0203, -0.0320, -0.2388, -0.1041, -0.0326, -0.2846, -0.0946, -0.0207,\n",
      "        -0.2600, -0.0707, -0.0265, -0.2403,  0.0426, -0.1466,  0.0078,  0.1067,\n",
      "        -0.1838, -0.0008,  0.1512, -0.1259, -0.0101,  0.1727, -0.0460, -0.0198,\n",
      "         0.1414, -0.2003, -0.0592,  0.2201, -0.2301, -0.0814,  0.2659, -0.2417,\n",
      "        -0.0878,  0.3007, -0.2462, -0.0880,  0.1509, -0.0881, -0.0701,  0.2324,\n",
      "        -0.0693, -0.0796,  0.2798, -0.0591, -0.0815,  0.3134, -0.0437, -0.0826,\n",
      "         0.1483,  0.0149, -0.0732,  0.1846, -0.0011, -0.0691,  0.1659, -0.0341,\n",
      "        -0.0508,  0.1422, -0.0468, -0.0352,  0.1396,  0.0941, -0.0765,  0.1608,\n",
      "         0.0550, -0.0589,  0.1464,  0.0263, -0.0281,  0.1293,  0.0198, -0.0021])\n"
     ]
    }
   ],
   "source": [
    "print(train_x.shape, train_x[0])"
   ]
  },
  {
   "cell_type": "code",
   "execution_count": 50,
   "id": "238eeca4-04fe-4ba8-a3ef-6591f20be94a",
   "metadata": {},
   "outputs": [
    {
     "data": {
      "text/plain": [
       "tensor([0., 0., 0., 0., 0., 0., 0., 0., 0., 0., 0., 0., 0., 0., 0., 0., 0., 0.,\n",
       "        0., 0., 0., 0., 0., 0., 0., 0., 0., 0., 0., 0., 0., 0., 0., 0., 0., 0.,\n",
       "        0., 0., 0., 0., 0., 0., 0., 0., 0., 0., 0., 0., 0., 0., 1., 0., 0., 0.,\n",
       "        0., 0., 0., 0., 0., 0., 0., 0., 0., 0., 0., 0., 0., 0., 0., 0., 0., 0.,\n",
       "        0., 0., 0., 0., 0., 0., 0., 0., 0., 0., 0., 0.])"
      ]
     },
     "execution_count": 50,
     "metadata": {},
     "output_type": "execute_result"
    }
   ],
   "source": [
    "train_y[0]"
   ]
  },
  {
   "cell_type": "code",
   "execution_count": 51,
   "id": "46e745f6-ef5f-4de3-8486-ef4a25359c06",
   "metadata": {},
   "outputs": [
    {
     "data": {
      "text/plain": [
       "<matplotlib.collections.PathCollection at 0x17ba90af310>"
      ]
     },
     "execution_count": 51,
     "metadata": {},
     "output_type": "execute_result"
    },
    {
     "data": {
      "image/png": "[encoded data removed]",
      "text/plain": [
       "<Figure size 432x288 with 1 Axes>"
      ]
     },
     "metadata": {
      "needs_background": "light"
     },
     "output_type": "display_data"
    }
   ],
   "source": [
    "plt.scatter(train_x[0][::3],train_x[0][1::3])"
   ]
  },
  {
   "cell_type": "code",
   "execution_count": 52,
   "id": "fae4f400-65b2-4a4c-ba91-4856b95e334d",
   "metadata": {},
   "outputs": [
    {
     "name": "stdout",
     "output_type": "stream",
     "text": [
      "tensor([-5.5948e-02, -2.6924e-02, -4.2087e-02, -1.0622e-01, -7.4020e-02,\n",
      "        -6.5901e-02, -1.5240e-01, -9.4512e-02, -1.0383e-01, -1.9194e-01,\n",
      "        -1.0126e-01, -1.4383e-01, -4.4992e-02, -1.6127e-01,  4.9433e-02,\n",
      "        -4.8178e-02, -2.2098e-01,  8.9929e-04, -4.9750e-02, -2.6138e-01,\n",
      "        -6.2363e-02, -5.1087e-02, -2.9628e-01, -1.1509e-01, -2.5173e-02,\n",
      "        -1.6300e-01,  6.2658e-03, -3.3078e-02, -2.2854e-01, -3.9023e-02,\n",
      "        -3.7296e-02, -2.7370e-01, -9.8819e-02, -4.1505e-02, -3.1423e-01,\n",
      "        -1.4504e-01, -5.6003e-03, -1.5681e-01, -5.5265e-02, -1.6848e-02,\n",
      "        -2.2154e-01, -1.0698e-01, -2.4950e-02, -2.6656e-01, -1.5477e-01,\n",
      "        -3.2779e-02, -3.0605e-01, -1.8773e-01,  1.1880e-02, -1.4439e-01,\n",
      "        -1.2687e-01,  4.1950e-06, -1.9682e-01, -1.7188e-01, -1.0097e-02,\n",
      "        -2.3160e-01, -1.9500e-01, -2.1039e-02, -2.6249e-01, -2.1283e-01,\n",
      "         4.6363e-02,  3.1356e-02, -4.8054e-02,  9.8337e-02,  5.3597e-02,\n",
      "        -9.0965e-02,  1.2647e-01,  8.5271e-02, -1.4461e-01,  1.4386e-01,\n",
      "         1.1871e-01, -2.0643e-01,  1.6815e-01, -9.0275e-03, -1.5027e-02,\n",
      "         2.2591e-01, -1.8381e-02, -9.1162e-02,  2.6411e-01, -2.6789e-02,\n",
      "        -1.6477e-01,  2.9733e-01, -3.3781e-02, -2.2062e-01,  1.6359e-01,\n",
      "        -2.7137e-02, -5.9010e-02,  2.3005e-01, -4.2690e-02, -1.3081e-01,\n",
      "         2.7438e-01, -5.4053e-02, -2.0406e-01,  3.1432e-01, -6.3816e-02,\n",
      "        -2.5777e-01,  1.4745e-01, -4.2753e-02, -1.1589e-01,  2.1516e-01,\n",
      "        -5.8765e-02, -1.8713e-01,  2.5905e-01, -6.6880e-02, -2.4105e-01,\n",
      "         2.9869e-01, -7.3798e-02, -2.7708e-01,  1.2139e-01, -5.6632e-02,\n",
      "        -1.7954e-01,  1.6998e-01, -6.8703e-02, -2.3916e-01,  2.0614e-01,\n",
      "        -7.1982e-02, -2.6344e-01,  2.4150e-01, -7.3047e-02, -2.8020e-01]) tensor([0., 0., 0., 0., 0., 0., 0., 0., 0., 0., 0., 0., 0., 0., 0., 0., 0., 0.,\n",
      "        0., 0., 0., 0., 0., 0., 0., 0., 0., 0., 0., 0., 0., 0., 0., 0., 0., 0.,\n",
      "        0., 0., 0., 0., 0., 0., 0., 0., 0., 0., 0., 0., 0., 0., 0., 0., 0., 0.,\n",
      "        0., 0., 0., 0., 0., 0., 0., 0., 0., 0., 0., 0., 0., 0., 0., 1., 0., 0.,\n",
      "        0., 0., 0., 0., 0., 0., 0., 0., 0., 0., 0., 0.])\n"
     ]
    }
   ],
   "source": [
    "print(train_x[4], train_y[4])\n",
    "# {'bye': 0, 'hello': 1, 'help': 2, 'no': 3, 'unknown': 4, 'yes': 5, 'you': 6}"
   ]
  },
  {
   "cell_type": "code",
   "execution_count": 53,
   "id": "a447e9e7-cc98-490c-9478-6d0371d7576b",
   "metadata": {},
   "outputs": [
    {
     "data": {
      "text/plain": [
       "tensor([[-0.0410, -0.1330, -0.0188, -0.0912, -0.2319, -0.0738, -0.1427, -0.2344,\n",
       "         -0.1258, -0.1840, -0.2302, -0.1790, -0.0408, -0.3344, -0.1518, -0.1357,\n",
       "         -0.2973, -0.2250, -0.1833, -0.2474, -0.2588, -0.2164, -0.2093, -0.2808,\n",
       "         -0.0262, -0.2457, -0.1820, -0.1317, -0.2004, -0.2410, -0.1187, -0.1574,\n",
       "         -0.2329, -0.0937, -0.1518, -0.2337, -0.0207, -0.1384, -0.2098, -0.1225,\n",
       "         -0.1082, -0.2556, -0.1062, -0.0758, -0.2109, -0.0800, -0.0860, -0.1862,\n",
       "         -0.0203, -0.0320, -0.2388, -0.1041, -0.0326, -0.2846, -0.0946, -0.0207,\n",
       "         -0.2600, -0.0707, -0.0265, -0.2403,  0.0426, -0.1466,  0.0078,  0.1067,\n",
       "         -0.1838, -0.0008,  0.1512, -0.1259, -0.0101,  0.1727, -0.0460, -0.0198,\n",
       "          0.1414, -0.2003, -0.0592,  0.2201, -0.2301, -0.0814,  0.2659, -0.2417,\n",
       "         -0.0878,  0.3007, -0.2462, -0.0880,  0.1509, -0.0881, -0.0701,  0.2324,\n",
       "         -0.0693, -0.0796,  0.2798, -0.0591, -0.0815,  0.3134, -0.0437, -0.0826,\n",
       "          0.1483,  0.0149, -0.0732,  0.1846, -0.0011, -0.0691,  0.1659, -0.0341,\n",
       "         -0.0508,  0.1422, -0.0468, -0.0352,  0.1396,  0.0941, -0.0765,  0.1608,\n",
       "          0.0550, -0.0589,  0.1464,  0.0263, -0.0281,  0.1293,  0.0198, -0.0021],\n",
       "        [ 0.0722, -0.0286, -0.0022,  0.1276, -0.0831, -0.0235,  0.1708, -0.1205,\n",
       "         -0.0609,  0.2161, -0.1471, -0.0996,  0.0964, -0.1741, -0.0073,  0.1203,\n",
       "         -0.2514, -0.0525,  0.1360, -0.2946, -0.0881,  0.1480, -0.3325, -0.1208,\n",
       "          0.0734, -0.1791, -0.0640,  0.1039, -0.2688, -0.1299,  0.1394, -0.3020,\n",
       "         -0.1819,  0.1632, -0.3229, -0.2180,  0.0485, -0.1676, -0.1244,  0.0927,\n",
       "         -0.2431, -0.2122,  0.1521, -0.2227, -0.2470,  0.1914, -0.1935, -0.2623,\n",
       "          0.0261, -0.1442, -0.1844,  0.0599, -0.1893, -0.2643,  0.0993, -0.1757,\n",
       "         -0.2830,  0.1265, -0.1528, -0.2900, -0.0463, -0.0859, -0.0149, -0.1386,\n",
       "         -0.1080, -0.0380, -0.2167, -0.0881, -0.0536, -0.2569, -0.0498, -0.0633,\n",
       "         -0.1344, -0.0873, -0.1469, -0.2358, -0.0952, -0.2140, -0.2043, -0.0934,\n",
       "         -0.2302, -0.1678, -0.0856, -0.2256, -0.1361, -0.0277, -0.1551, -0.2319,\n",
       "         -0.0426, -0.1781, -0.2014, -0.0461, -0.1477, -0.1695, -0.0419, -0.1313,\n",
       "         -0.1361,  0.0266, -0.1590, -0.2203,  0.0053, -0.1606, -0.1943, -0.0019,\n",
       "         -0.1029, -0.1656,  0.0016, -0.0729, -0.1356,  0.0723, -0.1632, -0.2078,\n",
       "          0.0493, -0.1445, -0.1878,  0.0401, -0.0899, -0.1637,  0.0441, -0.0586]])"
      ]
     },
     "execution_count": 53,
     "metadata": {},
     "output_type": "execute_result"
    }
   ],
   "source": [
    "train_x[:2]"
   ]
  },
  {
   "cell_type": "code",
   "execution_count": 54,
   "id": "639ea363-8f9b-4c29-bdfe-3ab2035758e1",
   "metadata": {},
   "outputs": [],
   "source": [
    "import matplotlib.pyplot as plt\n",
    "\n",
    "def train(net, BATCH_SIZE, EPOCHS):\n",
    "    loss_function = nn.MSELoss()\n",
    "    loss_x = []\n",
    "    optimizer = optim.Adam(net.parameters(), lr = 0.001)\n",
    "    \n",
    "    for epoch in range(EPOCHS):\n",
    "        for i in tqdm(range(0, len(train_x), BATCH_SIZE)):\n",
    "            batch_X = train_x[i:i+BATCH_SIZE].view(-1,120).to(device)\n",
    "            batch_y = train_y[i:i+BATCH_SIZE].to(device)\n",
    "            \n",
    "            net.zero_grad()\n",
    "            \n",
    "            outputs = net(batch_X)\n",
    "            loss = loss_function(outputs, batch_y)\n",
    "            loss.backward()\n",
    "            optimizer.step()\n",
    "            \n",
    "        loss_x.append(loss.item())\n",
    "        print(loss)\n",
    "        \n",
    "    plt.plot(loss_x)\n",
    "    \n",
    "def test(net):\n",
    "    correct = 0\n",
    "    total = 0\n",
    "    with torch.no_grad():\n",
    "        for i in tqdm(range(len(test_x))):\n",
    "            real_class = torch.argmax(test_y[i]).to(device)\n",
    "            net_out = net(test_x[i].view(-1,120).to(device))[0]\n",
    "            predicted_class = torch.argmax(net_out)\n",
    "            \n",
    "            if predicted_class == real_class:\n",
    "                correct += 1\n",
    "            total += 1\n",
    "    print(\"Accuracy: \", round(correct/total, 3))"
   ]
  },
  {
   "cell_type": "code",
   "execution_count": 55,
   "id": "f2567615-5d96-4636-b5a6-114b28f79fb1",
   "metadata": {},
   "outputs": [],
   "source": [
    "# model2 = pickle.load(open(f\"models/trained/one_t_s1\", 'rb'))\n",
    "# test(model2)"
   ]
  },
  {
   "cell_type": "code",
   "execution_count": 56,
   "id": "3fd8d3f1-7a31-48fb-9323-06c63a5aaec1",
   "metadata": {},
   "outputs": [],
   "source": [
    "# model3 = pickle.load(open(f\"models/trained/one_tg_s1\", 'rb'))\n",
    "# test(model3)"
   ]
  },
  {
   "cell_type": "code",
   "execution_count": 57,
   "id": "6dadf583-d115-4709-ba1c-f99de3e4d0e2",
   "metadata": {},
   "outputs": [
    {
     "name": "stderr",
     "output_type": "stream",
     "text": [
      "100%|██████████| 440/440 [00:03<00:00, 143.09it/s]\n",
      "  4%|▍         | 17/440 [00:00<00:02, 157.44it/s]"
     ]
    },
    {
     "name": "stdout",
     "output_type": "stream",
     "text": [
      "tensor(0.0063, grad_fn=<MseLossBackward0>)\n"
     ]
    },
    {
     "name": "stderr",
     "output_type": "stream",
     "text": [
      "100%|██████████| 440/440 [00:03<00:00, 124.82it/s]\n",
      "  3%|▎         | 13/440 [00:00<00:03, 122.71it/s]"
     ]
    },
    {
     "name": "stdout",
     "output_type": "stream",
     "text": [
      "tensor(0.0030, grad_fn=<MseLossBackward0>)\n"
     ]
    },
    {
     "name": "stderr",
     "output_type": "stream",
     "text": [
      "100%|██████████| 440/440 [00:03<00:00, 116.92it/s]\n",
      "  3%|▎         | 13/440 [00:00<00:03, 129.40it/s]"
     ]
    },
    {
     "name": "stdout",
     "output_type": "stream",
     "text": [
      "tensor(0.0015, grad_fn=<MseLossBackward0>)\n"
     ]
    },
    {
     "name": "stderr",
     "output_type": "stream",
     "text": [
      "100%|██████████| 440/440 [00:04<00:00, 101.88it/s]\n",
      "  2%|▏         | 10/440 [00:00<00:04, 91.95it/s]"
     ]
    },
    {
     "name": "stdout",
     "output_type": "stream",
     "text": [
      "tensor(0.0008, grad_fn=<MseLossBackward0>)\n"
     ]
    },
    {
     "name": "stderr",
     "output_type": "stream",
     "text": [
      "100%|██████████| 440/440 [00:03<00:00, 116.49it/s]\n",
      "  3%|▎         | 14/440 [00:00<00:03, 138.56it/s]"
     ]
    },
    {
     "name": "stdout",
     "output_type": "stream",
     "text": [
      "tensor(0.0006, grad_fn=<MseLossBackward0>)\n"
     ]
    },
    {
     "name": "stderr",
     "output_type": "stream",
     "text": [
      "100%|██████████| 440/440 [00:04<00:00, 99.58it/s] \n",
      "  2%|▎         | 11/440 [00:00<00:03, 107.94it/s]"
     ]
    },
    {
     "name": "stdout",
     "output_type": "stream",
     "text": [
      "tensor(0.0006, grad_fn=<MseLossBackward0>)\n"
     ]
    },
    {
     "name": "stderr",
     "output_type": "stream",
     "text": [
      "100%|██████████| 440/440 [00:04<00:00, 106.75it/s]\n",
      "  2%|▎         | 11/440 [00:00<00:03, 108.24it/s]"
     ]
    },
    {
     "name": "stdout",
     "output_type": "stream",
     "text": [
      "tensor(0.0002, grad_fn=<MseLossBackward0>)\n"
     ]
    },
    {
     "name": "stderr",
     "output_type": "stream",
     "text": [
      "100%|██████████| 440/440 [00:04<00:00, 109.80it/s]\n",
      "  2%|▎         | 11/440 [00:00<00:04, 104.40it/s]"
     ]
    },
    {
     "name": "stdout",
     "output_type": "stream",
     "text": [
      "tensor(0.0002, grad_fn=<MseLossBackward0>)\n"
     ]
    },
    {
     "name": "stderr",
     "output_type": "stream",
     "text": [
      "100%|██████████| 440/440 [00:03<00:00, 125.85it/s]\n",
      "  5%|▌         | 23/440 [00:00<00:03, 113.60it/s]"
     ]
    },
    {
     "name": "stdout",
     "output_type": "stream",
     "text": [
      "tensor(0.0002, grad_fn=<MseLossBackward0>)\n"
     ]
    },
    {
     "name": "stderr",
     "output_type": "stream",
     "text": [
      "100%|██████████| 440/440 [00:04<00:00, 102.23it/s]\n",
      "  2%|▎         | 11/440 [00:00<00:04, 103.50it/s]"
     ]
    },
    {
     "name": "stdout",
     "output_type": "stream",
     "text": [
      "tensor(0.0002, grad_fn=<MseLossBackward0>)\n"
     ]
    },
    {
     "name": "stderr",
     "output_type": "stream",
     "text": [
      "100%|██████████| 440/440 [00:03<00:00, 113.30it/s]\n",
      "  4%|▎         | 16/440 [00:00<00:02, 158.05it/s]"
     ]
    },
    {
     "name": "stdout",
     "output_type": "stream",
     "text": [
      "tensor(0.0001, grad_fn=<MseLossBackward0>)\n"
     ]
    },
    {
     "name": "stderr",
     "output_type": "stream",
     "text": [
      "100%|██████████| 440/440 [00:03<00:00, 112.98it/s]\n",
      "  6%|▋         | 28/440 [00:00<00:03, 136.62it/s]"
     ]
    },
    {
     "name": "stdout",
     "output_type": "stream",
     "text": [
      "tensor(0.0001, grad_fn=<MseLossBackward0>)\n"
     ]
    },
    {
     "name": "stderr",
     "output_type": "stream",
     "text": [
      "100%|██████████| 440/440 [00:03<00:00, 124.17it/s]\n",
      "  4%|▎         | 16/440 [00:00<00:02, 156.97it/s]"
     ]
    },
    {
     "name": "stdout",
     "output_type": "stream",
     "text": [
      "tensor(9.7870e-05, grad_fn=<MseLossBackward0>)\n"
     ]
    },
    {
     "name": "stderr",
     "output_type": "stream",
     "text": [
      "100%|██████████| 440/440 [00:03<00:00, 115.09it/s]\n",
      "  4%|▎         | 16/440 [00:00<00:02, 156.03it/s]"
     ]
    },
    {
     "name": "stdout",
     "output_type": "stream",
     "text": [
      "tensor(9.0013e-05, grad_fn=<MseLossBackward0>)\n"
     ]
    },
    {
     "name": "stderr",
     "output_type": "stream",
     "text": [
      "100%|██████████| 440/440 [00:03<00:00, 122.13it/s]\n",
      "  4%|▎         | 16/440 [00:00<00:02, 154.85it/s]"
     ]
    },
    {
     "name": "stdout",
     "output_type": "stream",
     "text": [
      "tensor(7.4036e-05, grad_fn=<MseLossBackward0>)\n"
     ]
    },
    {
     "name": "stderr",
     "output_type": "stream",
     "text": [
      "100%|██████████| 440/440 [00:04<00:00, 103.13it/s]\n",
      "  3%|▎         | 13/440 [00:00<00:03, 126.81it/s]"
     ]
    },
    {
     "name": "stdout",
     "output_type": "stream",
     "text": [
      "tensor(0.0001, grad_fn=<MseLossBackward0>)\n"
     ]
    },
    {
     "name": "stderr",
     "output_type": "stream",
     "text": [
      "100%|██████████| 440/440 [00:03<00:00, 120.73it/s]\n",
      "  3%|▎         | 15/440 [00:00<00:02, 147.93it/s]"
     ]
    },
    {
     "name": "stdout",
     "output_type": "stream",
     "text": [
      "tensor(5.5815e-05, grad_fn=<MseLossBackward0>)\n"
     ]
    },
    {
     "name": "stderr",
     "output_type": "stream",
     "text": [
      "100%|██████████| 440/440 [00:03<00:00, 110.18it/s]\n",
      "  2%|▏         | 10/440 [00:00<00:04, 93.77it/s]"
     ]
    },
    {
     "name": "stdout",
     "output_type": "stream",
     "text": [
      "tensor(8.9498e-05, grad_fn=<MseLossBackward0>)\n"
     ]
    },
    {
     "name": "stderr",
     "output_type": "stream",
     "text": [
      "100%|██████████| 440/440 [00:03<00:00, 117.45it/s]\n",
      "  3%|▎         | 15/440 [00:00<00:02, 145.31it/s]"
     ]
    },
    {
     "name": "stdout",
     "output_type": "stream",
     "text": [
      "tensor(7.5007e-05, grad_fn=<MseLossBackward0>)\n"
     ]
    },
    {
     "name": "stderr",
     "output_type": "stream",
     "text": [
      "100%|██████████| 440/440 [00:03<00:00, 115.74it/s]\n",
      "  3%|▎         | 12/440 [00:00<00:03, 111.33it/s]"
     ]
    },
    {
     "name": "stdout",
     "output_type": "stream",
     "text": [
      "tensor(7.8146e-05, grad_fn=<MseLossBackward0>)\n"
     ]
    },
    {
     "name": "stderr",
     "output_type": "stream",
     "text": [
      "100%|██████████| 440/440 [00:03<00:00, 119.94it/s]\n",
      "  4%|▎         | 16/440 [00:00<00:02, 157.95it/s]"
     ]
    },
    {
     "name": "stdout",
     "output_type": "stream",
     "text": [
      "tensor(7.0794e-05, grad_fn=<MseLossBackward0>)\n"
     ]
    },
    {
     "name": "stderr",
     "output_type": "stream",
     "text": [
      "100%|██████████| 440/440 [00:03<00:00, 134.04it/s]\n",
      "  4%|▎         | 16/440 [00:00<00:02, 156.20it/s]"
     ]
    },
    {
     "name": "stdout",
     "output_type": "stream",
     "text": [
      "tensor(5.3754e-05, grad_fn=<MseLossBackward0>)\n"
     ]
    },
    {
     "name": "stderr",
     "output_type": "stream",
     "text": [
      "100%|██████████| 440/440 [00:03<00:00, 116.29it/s]\n",
      "  2%|▏         | 8/440 [00:00<00:05, 75.48it/s]"
     ]
    },
    {
     "name": "stdout",
     "output_type": "stream",
     "text": [
      "tensor(3.5878e-05, grad_fn=<MseLossBackward0>)\n"
     ]
    },
    {
     "name": "stderr",
     "output_type": "stream",
     "text": [
      "100%|██████████| 440/440 [00:04<00:00, 109.38it/s]\n",
      "  3%|▎         | 15/440 [00:00<00:03, 139.91it/s]"
     ]
    },
    {
     "name": "stdout",
     "output_type": "stream",
     "text": [
      "tensor(8.9235e-05, grad_fn=<MseLossBackward0>)\n"
     ]
    },
    {
     "name": "stderr",
     "output_type": "stream",
     "text": [
      "100%|██████████| 440/440 [00:04<00:00, 102.19it/s]\n"
     ]
    },
    {
     "name": "stdout",
     "output_type": "stream",
     "text": [
      "tensor(3.2231e-05, grad_fn=<MseLossBackward0>)\n"
     ]
    },
    {
     "data": {
      "image/png": "[encoded data removed]",
      "text/plain": [
       "<Figure size 432x288 with 1 Axes>"
      ]
     },
     "metadata": {
      "needs_background": "light"
     },
     "output_type": "display_data"
    }
   ],
   "source": [
    "BATCH_SIZE = 35\n",
    "EPOCHS = 25\n",
    "train(model, BATCH_SIZE, EPOCHS)"
   ]
  },
  {
   "cell_type": "code",
   "execution_count": 58,
   "id": "2ebe2162-7078-4fa5-8166-54ed09ccd53b",
   "metadata": {},
   "outputs": [
    {
     "name": "stdout",
     "output_type": "stream",
     "text": [
      "tensor([[-4.0646e-03,  3.6270e-03, -3.8287e-03, -1.6982e-03,  2.6977e-03,\n",
      "          5.6069e-04,  7.0136e-04,  1.7227e-03,  2.1012e-03, -2.1865e-04,\n",
      "         -1.2622e-03, -3.5063e-03, -1.5728e-03,  1.9442e-03,  2.0965e-04,\n",
      "          2.6547e-03, -2.8275e-03,  1.1385e-03,  1.7381e-03, -8.8551e-04,\n",
      "         -2.5569e-03, -4.1397e-03,  4.3696e-04,  9.8759e-04, -1.7637e-03,\n",
      "         -6.6605e-03, -2.7184e-04,  1.3802e-03, -1.2869e-03,  1.1775e-03,\n",
      "         -1.3726e-03,  2.4846e-03,  4.1849e-03,  1.9866e-03,  4.5649e-03,\n",
      "         -7.2876e-04, -6.4464e-03,  2.5207e-03,  1.6929e-03, -1.3956e-03,\n",
      "          5.6682e-04,  1.6000e-03,  1.1006e-03,  1.1380e-03,  1.0081e+00,\n",
      "          2.3306e-03,  6.5540e-04, -3.5074e-03, -1.1078e-03,  2.1583e-03,\n",
      "          1.7477e-04,  2.9147e-03,  1.1738e-03,  1.4734e-03,  3.4732e-03,\n",
      "         -3.0652e-03,  3.1588e-03, -5.5477e-04,  1.1482e-03, -5.8893e-05,\n",
      "         -1.3374e-03,  1.4628e-03,  6.9572e-04, -8.9267e-04,  3.0229e-03,\n",
      "          1.4475e-03, -8.0164e-03, -9.6828e-04,  1.7462e-04, -2.0232e-03,\n",
      "          2.5893e-03,  1.7575e-04, -5.5982e-05,  2.0173e-03, -6.1393e-04,\n",
      "          3.5623e-03,  3.5471e-03, -2.8613e-03, -1.7431e-03,  1.7755e-03,\n",
      "         -1.4572e-03,  1.6942e-04,  2.4378e-04, -6.0423e-04]],\n",
      "       grad_fn=<AddmmBackward0>) tensor([0., 0., 0., 0., 0., 0., 0., 0., 0., 0., 0., 0., 0., 0., 0., 0., 0., 0.,\n",
      "        0., 0., 0., 0., 0., 0., 0., 0., 0., 0., 0., 0., 0., 0., 0., 0., 0., 0.,\n",
      "        0., 0., 0., 0., 0., 0., 0., 0., 1., 0., 0., 0., 0., 0., 0., 0., 0., 0.,\n",
      "        0., 0., 0., 0., 0., 0., 0., 0., 0., 0., 0., 0., 0., 0., 0., 0., 0., 0.,\n",
      "        0., 0., 0., 0., 0., 0., 0., 0., 0., 0., 0., 0.])\n"
     ]
    }
   ],
   "source": [
    "#[yes, other, no, fuck]\n",
    "print(model(test_x[5].view(-1,120).to(device)), test_y[5])\n",
    "# plt.imshow(test_x[4].view(30,30), cmap='gray')"
   ]
  },
  {
   "cell_type": "code",
   "execution_count": 59,
   "id": "37d47511-7ceb-4451-b47f-2492b10a68cf",
   "metadata": {},
   "outputs": [
    {
     "name": "stderr",
     "output_type": "stream",
     "text": [
      "100%|██████████| 1709/1709 [00:00<00:00, 2792.73it/s]"
     ]
    },
    {
     "name": "stdout",
     "output_type": "stream",
     "text": [
      "Accuracy:  0.987\n"
     ]
    },
    {
     "name": "stderr",
     "output_type": "stream",
     "text": [
      "\n"
     ]
    }
   ],
   "source": [
    "test(model)"
   ]
  },
  {
   "cell_type": "code",
   "execution_count": 60,
   "id": "b7aa384d-5244-4f28-a836-42fd07dc54a8",
   "metadata": {},
   "outputs": [
    {
     "data": {
      "text/plain": [
       "torch.Size([1709, 120])"
      ]
     },
     "execution_count": 60,
     "metadata": {},
     "output_type": "execute_result"
    }
   ],
   "source": [
    "test_x.shape"
   ]
  },
  {
   "cell_type": "code",
   "execution_count": 61,
   "id": "d90bf732-c278-4351-9d93-89508da9b90c",
   "metadata": {},
   "outputs": [
    {
     "data": {
      "text/plain": [
       "tensor([[0., 0., 0., 0., 0., 0., 0., 0., 0., 0., 0., 0., 0., 0., 0., 0., 0., 0.,\n",
       "         0., 0., 0., 0., 0., 0., 0., 0., 0., 0., 0., 1., 0., 0., 0., 0., 0., 0.,\n",
       "         0., 0., 0., 0., 0., 0., 0., 0., 0., 0., 0., 0., 0., 0., 0., 0., 0., 0.,\n",
       "         0., 0., 0., 0., 0., 0., 0., 0., 0., 0., 0., 0., 0., 0., 0., 0., 0., 0.,\n",
       "         0., 0., 0., 0., 0., 0., 0., 0., 0., 0., 0., 0.],\n",
       "        [0., 0., 0., 0., 0., 0., 0., 0., 0., 0., 0., 0., 0., 0., 0., 0., 0., 0.,\n",
       "         0., 0., 0., 0., 0., 0., 0., 0., 0., 1., 0., 0., 0., 0., 0., 0., 0., 0.,\n",
       "         0., 0., 0., 0., 0., 0., 0., 0., 0., 0., 0., 0., 0., 0., 0., 0., 0., 0.,\n",
       "         0., 0., 0., 0., 0., 0., 0., 0., 0., 0., 0., 0., 0., 0., 0., 0., 0., 0.,\n",
       "         0., 0., 0., 0., 0., 0., 0., 0., 0., 0., 0., 0.],\n",
       "        [0., 0., 0., 0., 0., 0., 0., 0., 0., 0., 0., 0., 0., 0., 0., 0., 0., 0.,\n",
       "         0., 0., 0., 0., 0., 0., 0., 0., 0., 0., 0., 0., 0., 0., 0., 0., 0., 0.,\n",
       "         0., 0., 0., 0., 0., 0., 0., 0., 0., 0., 0., 0., 0., 0., 0., 0., 0., 0.,\n",
       "         0., 0., 0., 0., 0., 0., 0., 0., 0., 0., 0., 0., 0., 0., 0., 0., 1., 0.,\n",
       "         0., 0., 0., 0., 0., 0., 0., 0., 0., 0., 0., 0.]])"
      ]
     },
     "execution_count": 61,
     "metadata": {},
     "output_type": "execute_result"
    }
   ],
   "source": [
    "test_y[:3]"
   ]
  },
  {
   "cell_type": "code",
   "execution_count": 63,
   "id": "35b9c766-4d72-4ff3-8e2f-9b03a04951e2",
   "metadata": {},
   "outputs": [],
   "source": [
    "if savetrainedModel:\n",
    "    trainedmodelpath = 'models/trained/'\n",
    "    pickle.dump(model.to('cpu'), open(trainedmodelpath + \"two_84\", 'wb'))"
   ]
  },
  {
   "cell_type": "code",
   "execution_count": 22,
   "id": "1daeac52-ad39-4129-b591-b38ad74093d7",
   "metadata": {},
   "outputs": [],
   "source": [
    "# Testing Multiple Functions\n",
    "# {'bye': 0, 'hello': 1, 'help': 2, 'no': 3, 'unknown': 4, 'yes': 5, 'you': 6}"
   ]
  }
 ],
 "metadata": {
  "kernelspec": {
   "display_name": "Python 3",
   "language": "python",
   "name": "python3"
  },
  "language_info": {
   "codemirror_mode": {
    "name": "ipython",
    "version": 3
   },
   "file_extension": ".py",
   "mimetype": "text/x-python",
   "name": "python",
   "nbconvert_exporter": "python",
   "pygments_lexer": "ipython3",
   "version": "3.8.8"
  }
 },
 "nbformat": 4,
 "nbformat_minor": 5
}
